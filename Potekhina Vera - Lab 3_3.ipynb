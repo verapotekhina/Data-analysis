{
 "cells": [
  {
   "cell_type": "markdown",
   "metadata": {},
   "source": [
    "![Title](Images/cisco.png)"
   ]
  },
  {
   "cell_type": "markdown",
   "metadata": {},
   "source": [
    "# Потехина Вера - Фт-370008"
   ]
  },
  {
   "cell_type": "markdown",
   "metadata": {},
   "source": [
    "#  Лабораторная работа - Визуализация данных скорости Интернета - var F"
   ]
  },
  {
   "cell_type": "markdown",
   "metadata": {},
   "source": [
    "### Цели\n",
    "<li>**Часть 1: Очистка и анализ данных **</li>\n",
    "<li>**Часть 2: Визуализация данных **</li>\n",
    "### История/Cценарий\n",
    "В этой лабораторной работе вы узнаете, как использовать библиотеку `pandas` для выполнения предварительных шагов, которые необходимы, прежде чем приступать к анализу данных, включая удаление отсутствующих значений, изменение формата данных и предварительный статистический анализ. \n",
    "После очистки данных вы будете использовать `matplotlib` для исследования и визуализации данных.\n",
    "\n",
    "### Необходимые ресурсы\n",
    "* 1 ПК с доступом в Интернет\n",
    "* Raspberry Pi версии 2 или выше\n",
    "* Библиотеки Python: datetime, csv, subprocess, pandas, numpy\n",
    "* Файл данных: data_long.csv"
   ]
  },
  {
   "cell_type": "markdown",
   "metadata": {},
   "source": [
    "## Часть 1: Очистка и анализ данных\n",
    "\n",
    "Иногда говорят, что специалисты по машинному обучению тратят 80% времени на очистку данных. Хотя это утверждение, возможно, является преувеличением, верно то, что очистка данных является фундаментальной задачей, необходимой для обеспечения успеха проекта машинного обучения. Как и в многих других областях здесь применяется закон 'мусор на входе - мусор на выходе'. Просто невозможно провести осмысленный анализ данных по 'грязным' данным. \n",
    "\n",
    "#### Шаг 1: Очистка данных.\n",
    "\n",
    "Загрузите данные из файла `rpi_data_compact.csv`. Этот файл содержит измерения скорости интернета, полученные во время лабораторной работы Internet_Speed_Data_Acquisition. В частности, основное внимание уделяется трем величинам: времени пинга (мс), скорости загрузки (Мбит / с) и скорости выгрузки (Мбит / с). "
   ]
  },
  {
   "cell_type": "markdown",
   "metadata": {},
   "source": [
    "###### a) Прочитайте данные из  `rpi_data_compact.csv`."
   ]
  },
  {
   "cell_type": "markdown",
   "metadata": {},
   "source": [
    "Прочитайте файл `./Data/rpi_data_compact.csv` в кадр данных Pandas под названием `df_compact` и просмотрите первые три строки этого кадра данных, используя `df.head`. "
   ]
  },
  {
   "cell_type": "code",
   "execution_count": 4,
   "metadata": {},
   "outputs": [],
   "source": [
    "# Ячейка для кода № 1\n",
    "import pandas as pd\n",
    "import numpy as np"
   ]
  },
  {
   "cell_type": "code",
   "execution_count": 52,
   "metadata": {},
   "outputs": [
    {
     "data": {
      "text/html": [
       "<div>\n",
       "<style scoped>\n",
       "    .dataframe tbody tr th:only-of-type {\n",
       "        vertical-align: middle;\n",
       "    }\n",
       "\n",
       "    .dataframe tbody tr th {\n",
       "        vertical-align: top;\n",
       "    }\n",
       "\n",
       "    .dataframe thead th {\n",
       "        text-align: right;\n",
       "    }\n",
       "</style>\n",
       "<table border=\"1\" class=\"dataframe\">\n",
       "  <thead>\n",
       "    <tr style=\"text-align: right;\">\n",
       "      <th></th>\n",
       "      <th>Unnamed: 0</th>\n",
       "      <th>Ping (ms)</th>\n",
       "      <th>Download (Mbit/s)</th>\n",
       "      <th>Upload (Mbit/s)</th>\n",
       "      <th>Date</th>\n",
       "      <th>Time</th>\n",
       "    </tr>\n",
       "  </thead>\n",
       "  <tbody>\n",
       "    <tr>\n",
       "      <th>0</th>\n",
       "      <td>0</td>\n",
       "      <td>26.992</td>\n",
       "      <td>91.80</td>\n",
       "      <td>14.31</td>\n",
       "      <td>2016-11-24</td>\n",
       "      <td>13:36:25</td>\n",
       "    </tr>\n",
       "    <tr>\n",
       "      <th>1</th>\n",
       "      <td>1</td>\n",
       "      <td>24.532</td>\n",
       "      <td>88.19</td>\n",
       "      <td>14.12</td>\n",
       "      <td>2016-11-24</td>\n",
       "      <td>13:36:55</td>\n",
       "    </tr>\n",
       "    <tr>\n",
       "      <th>2</th>\n",
       "      <td>2</td>\n",
       "      <td>20.225</td>\n",
       "      <td>59.86</td>\n",
       "      <td>14.11</td>\n",
       "      <td>2016-11-24</td>\n",
       "      <td>13:37:25</td>\n",
       "    </tr>\n",
       "    <tr>\n",
       "      <th>3</th>\n",
       "      <td>3</td>\n",
       "      <td>19.332</td>\n",
       "      <td>91.81</td>\n",
       "      <td>14.22</td>\n",
       "      <td>2016-11-24</td>\n",
       "      <td>13:37:57</td>\n",
       "    </tr>\n",
       "    <tr>\n",
       "      <th>4</th>\n",
       "      <td>4</td>\n",
       "      <td>22.494</td>\n",
       "      <td>92.05</td>\n",
       "      <td>14.08</td>\n",
       "      <td>2016-11-24</td>\n",
       "      <td>13:38:27</td>\n",
       "    </tr>\n",
       "  </tbody>\n",
       "</table>\n",
       "</div>"
      ],
      "text/plain": [
       "   Unnamed: 0 Ping (ms) Download (Mbit/s)  Upload (Mbit/s)        Date  \\\n",
       "0           0    26.992             91.80            14.31  2016-11-24   \n",
       "1           1    24.532             88.19            14.12  2016-11-24   \n",
       "2           2    20.225             59.86            14.11  2016-11-24   \n",
       "3           3    19.332             91.81            14.22  2016-11-24   \n",
       "4           4    22.494             92.05            14.08  2016-11-24   \n",
       "\n",
       "       Time  \n",
       "0  13:36:25  \n",
       "1  13:36:55  \n",
       "2  13:37:25  \n",
       "3  13:37:57  \n",
       "4  13:38:27  "
      ]
     },
     "execution_count": 52,
     "metadata": {},
     "output_type": "execute_result"
    }
   ],
   "source": [
    "# Ячейка для кода № 2\n",
    "# Импортируйте данные из файла csv и визуализируйте первые строки\n",
    "df_compact = pd.read_csv('rpi_data_compact.csv')\n",
    "df_compact.head(5)"
   ]
  },
  {
   "cell_type": "markdown",
   "metadata": {},
   "source": [
    "###### b) Удалите ненужные столбцы.\n",
    "\n",
    "Как вы могли заметить, в кадре данных `df_compact` есть дополнительный столбец. Используйте команду `df.drop`, чтобы удалить этот столбец. Если Вам нужна помощь обратитесь к лабораторной работе Internet_Speed_Data_Acquisition."
   ]
  },
  {
   "cell_type": "code",
   "execution_count": 53,
   "metadata": {},
   "outputs": [
    {
     "data": {
      "text/html": [
       "<div>\n",
       "<style scoped>\n",
       "    .dataframe tbody tr th:only-of-type {\n",
       "        vertical-align: middle;\n",
       "    }\n",
       "\n",
       "    .dataframe tbody tr th {\n",
       "        vertical-align: top;\n",
       "    }\n",
       "\n",
       "    .dataframe thead th {\n",
       "        text-align: right;\n",
       "    }\n",
       "</style>\n",
       "<table border=\"1\" class=\"dataframe\">\n",
       "  <thead>\n",
       "    <tr style=\"text-align: right;\">\n",
       "      <th></th>\n",
       "      <th>Ping (ms)</th>\n",
       "      <th>Download (Mbit/s)</th>\n",
       "      <th>Upload (Mbit/s)</th>\n",
       "      <th>Date</th>\n",
       "      <th>Time</th>\n",
       "    </tr>\n",
       "  </thead>\n",
       "  <tbody>\n",
       "    <tr>\n",
       "      <th>0</th>\n",
       "      <td>26.992</td>\n",
       "      <td>91.80</td>\n",
       "      <td>14.31</td>\n",
       "      <td>2016-11-24</td>\n",
       "      <td>13:36:25</td>\n",
       "    </tr>\n",
       "    <tr>\n",
       "      <th>1</th>\n",
       "      <td>24.532</td>\n",
       "      <td>88.19</td>\n",
       "      <td>14.12</td>\n",
       "      <td>2016-11-24</td>\n",
       "      <td>13:36:55</td>\n",
       "    </tr>\n",
       "    <tr>\n",
       "      <th>2</th>\n",
       "      <td>20.225</td>\n",
       "      <td>59.86</td>\n",
       "      <td>14.11</td>\n",
       "      <td>2016-11-24</td>\n",
       "      <td>13:37:25</td>\n",
       "    </tr>\n",
       "    <tr>\n",
       "      <th>3</th>\n",
       "      <td>19.332</td>\n",
       "      <td>91.81</td>\n",
       "      <td>14.22</td>\n",
       "      <td>2016-11-24</td>\n",
       "      <td>13:37:57</td>\n",
       "    </tr>\n",
       "    <tr>\n",
       "      <th>4</th>\n",
       "      <td>22.494</td>\n",
       "      <td>92.05</td>\n",
       "      <td>14.08</td>\n",
       "      <td>2016-11-24</td>\n",
       "      <td>13:38:27</td>\n",
       "    </tr>\n",
       "  </tbody>\n",
       "</table>\n",
       "</div>"
      ],
      "text/plain": [
       "  Ping (ms) Download (Mbit/s)  Upload (Mbit/s)        Date      Time\n",
       "0    26.992             91.80            14.31  2016-11-24  13:36:25\n",
       "1    24.532             88.19            14.12  2016-11-24  13:36:55\n",
       "2    20.225             59.86            14.11  2016-11-24  13:37:25\n",
       "3    19.332             91.81            14.22  2016-11-24  13:37:57\n",
       "4    22.494             92.05            14.08  2016-11-24  13:38:27"
      ]
     },
     "execution_count": 53,
     "metadata": {},
     "output_type": "execute_result"
    }
   ],
   "source": [
    "# Ячейка для кода № 3\n",
    "# Удалите ненужные столбцы\n",
    "del df_compact['Unnamed: 0']\n",
    "df_compact.head(5)"
   ]
  },
  {
   "cell_type": "markdown",
   "metadata": {},
   "source": [
    "###### c) Удалите `NaNs`.\n",
    "\n",
    "Общей проблемой, которая влияет на качество данных, является наличие значений `NaN`. Это может привести к тому, что функции анализа данных резко прекратят расчет, выдадут ошибку или создадут неверные результаты. Как правило, значения NaN представляют собой часть информации, которая должна содержаться в наборе данных, но отсутствует в нем. \n",
    "В этом примере значения `NaN` в `df_compact` могут представлять собой измерения, в которых произошел разрыв соединения с Интернетом, либо, когда сервер `Speedtest.net` не смог ответить на запросы от Raspberry Pi. Код ниже подсичтывает количество значений `NaN` в кадре данных. "
   ]
  },
  {
   "cell_type": "markdown",
   "metadata": {},
   "source": [
    "Сначала перейдите на страницу http://pandas.pydata.org/pandas-docs/version/0.14.1/index.html и выполните поиск `isnull` в окне поиска. ![Image](Images/pandas_screenshot.png)"
   ]
  },
  {
   "cell_type": "markdown",
   "metadata": {},
   "source": [
    "Документация функции `isnull` немного сложна для понимания. К счастью, интерактивный интерфейс Jupyter позволяет нам вызвать эту функцию и быстро изучить ее вывод."
   ]
  },
  {
   "cell_type": "code",
   "execution_count": 54,
   "metadata": {},
   "outputs": [
    {
     "name": "stdout",
     "output_type": "stream",
     "text": [
      "<class 'pandas.core.frame.DataFrame'>\n"
     ]
    },
    {
     "data": {
      "text/html": [
       "<div>\n",
       "<style scoped>\n",
       "    .dataframe tbody tr th:only-of-type {\n",
       "        vertical-align: middle;\n",
       "    }\n",
       "\n",
       "    .dataframe tbody tr th {\n",
       "        vertical-align: top;\n",
       "    }\n",
       "\n",
       "    .dataframe thead th {\n",
       "        text-align: right;\n",
       "    }\n",
       "</style>\n",
       "<table border=\"1\" class=\"dataframe\">\n",
       "  <thead>\n",
       "    <tr style=\"text-align: right;\">\n",
       "      <th></th>\n",
       "      <th>Ping (ms)</th>\n",
       "      <th>Download (Mbit/s)</th>\n",
       "      <th>Upload (Mbit/s)</th>\n",
       "      <th>Date</th>\n",
       "      <th>Time</th>\n",
       "    </tr>\n",
       "  </thead>\n",
       "  <tbody>\n",
       "    <tr>\n",
       "      <th>0</th>\n",
       "      <td>False</td>\n",
       "      <td>False</td>\n",
       "      <td>False</td>\n",
       "      <td>False</td>\n",
       "      <td>False</td>\n",
       "    </tr>\n",
       "    <tr>\n",
       "      <th>1</th>\n",
       "      <td>False</td>\n",
       "      <td>False</td>\n",
       "      <td>False</td>\n",
       "      <td>False</td>\n",
       "      <td>False</td>\n",
       "    </tr>\n",
       "    <tr>\n",
       "      <th>2</th>\n",
       "      <td>False</td>\n",
       "      <td>False</td>\n",
       "      <td>False</td>\n",
       "      <td>False</td>\n",
       "      <td>False</td>\n",
       "    </tr>\n",
       "    <tr>\n",
       "      <th>3</th>\n",
       "      <td>False</td>\n",
       "      <td>False</td>\n",
       "      <td>False</td>\n",
       "      <td>False</td>\n",
       "      <td>False</td>\n",
       "    </tr>\n",
       "    <tr>\n",
       "      <th>4</th>\n",
       "      <td>False</td>\n",
       "      <td>False</td>\n",
       "      <td>False</td>\n",
       "      <td>False</td>\n",
       "      <td>False</td>\n",
       "    </tr>\n",
       "  </tbody>\n",
       "</table>\n",
       "</div>"
      ],
      "text/plain": [
       "   Ping (ms)  Download (Mbit/s)  Upload (Mbit/s)   Date   Time\n",
       "0      False              False            False  False  False\n",
       "1      False              False            False  False  False\n",
       "2      False              False            False  False  False\n",
       "3      False              False            False  False  False\n",
       "4      False              False            False  False  False"
      ]
     },
     "execution_count": 54,
     "metadata": {},
     "output_type": "execute_result"
    }
   ],
   "source": [
    "# Ячейка для кода № 4\n",
    "NaNs_in_df = df_compact.isnull()\n",
    "print(type(NaNs_in_df))\n",
    "NaNs_in_df.head()\n"
   ]
  },
  {
   "cell_type": "markdown",
   "metadata": {},
   "source": [
    "Результатом функции `isnull` является новый кадр данных, который содержит `True` или `False`, если соответствующий элемент в `DataFrame` имеет значение `NaN` или нет. Использование функции `sum` на этом `DataFrame` автоматически преобразует значения `True` в 1s и `False` в 0s.  "
   ]
  },
  {
   "cell_type": "code",
   "execution_count": 55,
   "metadata": {},
   "outputs": [
    {
     "name": "stdout",
     "output_type": "stream",
     "text": [
      "<class 'pandas.core.series.Series'>\n"
     ]
    },
    {
     "data": {
      "text/plain": [
       "Ping (ms)            1\n",
       "Download (Mbit/s)    1\n",
       "Upload (Mbit/s)      7\n",
       "Date                 7\n",
       "Time                 7\n",
       "dtype: int64"
      ]
     },
     "execution_count": 55,
     "metadata": {},
     "output_type": "execute_result"
    }
   ],
   "source": [
    "# Ячейка для кода № 5\n",
    "NaNs_per_column = NaNs_in_df.sum()\n",
    "print(type(NaNs_per_column))\n",
    "NaNs_per_column.head()"
   ]
  },
  {
   "cell_type": "markdown",
   "metadata": {},
   "source": [
    "Получаемый `NaN_per_column` представляет собой объект `Series` библиотеки `pandas`, который можно рассматривать как один столбец в`DataFrame` (`DataFrame` на самом деле является типом `Series`, где ключи являются именами столбцов). Объект `Series` содержит почти все функциональные возможности `DataFrame`. \n",
    "Используйте функцию `sum` на `Nan_per_column Series` и выведите результат."
   ]
  },
  {
   "cell_type": "code",
   "execution_count": 56,
   "metadata": {},
   "outputs": [
    {
     "data": {
      "text/plain": [
       "23"
      ]
     },
     "execution_count": 56,
     "metadata": {},
     "output_type": "execute_result"
    }
   ],
   "source": [
    "# Ячейка для кода № 6\n",
    "NaNs_total = NaNs_per_column.sum()\n",
    "NaNs_total"
   ]
  },
  {
   "cell_type": "markdown",
   "metadata": {},
   "source": [
    "Можно объединить все эти команды в одну строку следующим образом:"
   ]
  },
  {
   "cell_type": "code",
   "execution_count": 57,
   "metadata": {},
   "outputs": [
    {
     "data": {
      "text/plain": [
       "23"
      ]
     },
     "execution_count": 57,
     "metadata": {},
     "output_type": "execute_result"
    }
   ],
   "source": [
    "# Ячейка для кода № 7\n",
    "df_compact.isnull().sum().sum()"
   ]
  },
  {
   "cell_type": "markdown",
   "metadata": {},
   "source": [
    "Вычислите количество отсутствующих значений в процентах от всех элементов в кадре данных (округлите результат до второго десятичного знака, используя `numpy.round` https://docs.scipy.org/doc/numpy/reference/generated/numpy.round_.html) "
   ]
  },
  {
   "cell_type": "markdown",
   "metadata": {},
   "source": [
    "Используйте функцию `dropna` библиотеки `pandas` для удаления значений `NaN` из `df_compact`."
   ]
  },
  {
   "cell_type": "code",
   "execution_count": 58,
   "metadata": {},
   "outputs": [
    {
     "name": "stdout",
     "output_type": "stream",
     "text": [
      "The DataFrame contains : 23 NaNs, equal to 0.68 of the measurements\n"
     ]
    }
   ],
   "source": [
    "# Ячейка для кода № 8\n",
    "NaNs_pct = np.round(df_compact.isnull().sum().sum()/float(len(df_compact)*len(df_compact.columns))*100, decimals = 2)\n",
    "print('The DataFrame contains : {} NaNs, equal to {} of the measurements'.format(NaNs_total, NaNs_pct))"
   ]
  },
  {
   "cell_type": "markdown",
   "metadata": {},
   "source": [
    "Функция `dropna`, если вызывается только с параметрами по умолчанию, удаляет все строки в `DataFrame`, если какое-либо из значений имеет значение `NaN'. "
   ]
  },
  {
   "cell_type": "code",
   "execution_count": 59,
   "metadata": {},
   "outputs": [],
   "source": [
    "# Ячейка для кода № 9\n",
    "# Удаление значений NaN\n",
    "df_compact_clean = df_compact.dropna()"
   ]
  },
  {
   "cell_type": "markdown",
   "metadata": {},
   "source": [
    "Сравните длину значений до и после использования `dropna`. Вы заметили что-то странное? Почему?"
   ]
  },
  {
   "cell_type": "code",
   "execution_count": 60,
   "metadata": {},
   "outputs": [
    {
     "name": "stdout",
     "output_type": "stream",
     "text": [
      "The DataFrame contains : 0 NaNs, equal to 0.0 of the measurements\n"
     ]
    }
   ],
   "source": [
    "# Ячейка для кода № 10\n",
    "NaNs_total_clear = df_compact_clean.isnull().sum().sum()\n",
    "NaNs_pct_clear = np.round(df_compact_clean.isnull().sum().sum()/float(len(df_compact_clean)*len(df_compact_clean.columns))*100, decimals = 2)\n",
    "print('The DataFrame contains : {} NaNs, equal to {} of the measurements'.format(NaNs_total_clear, NaNs_pct_clear))"
   ]
  },
  {
   "cell_type": "markdown",
   "metadata": {},
   "source": [
    "Ответ: всё логично, значения NaN пропали после удаления."
   ]
  },
  {
   "cell_type": "markdown",
   "metadata": {},
   "source": [
    "###### d) Измените формат значений.\n",
    "\n",
    "Столбцы под значения времени пинга, скорости загрузки и скорости выгрузки в кадре данных `df_compact` содержат числовые значения. Поэтому разумно ожидать, что все они будут использовать один тип данных, например, `float64`. Это, однако, не всегда верно и мы может это проверить с помощью `dtypes`: "
   ]
  },
  {
   "cell_type": "code",
   "execution_count": 61,
   "metadata": {},
   "outputs": [
    {
     "data": {
      "text/plain": [
       "Ping (ms)             object\n",
       "Download (Mbit/s)     object\n",
       "Upload (Mbit/s)      float64\n",
       "Date                  object\n",
       "Time                  object\n",
       "dtype: object"
      ]
     },
     "execution_count": 61,
     "metadata": {},
     "output_type": "execute_result"
    }
   ],
   "source": [
    "# Ячейка для кода № 11\n",
    "# Тип значений Ping и Download не float\n",
    "df_compact_clean.dtypes"
   ]
  },
  {
   "cell_type": "markdown",
   "metadata": {},
   "source": [
    "Используйте функцию Python `float()` для преобразования строкового значения в формат `float`."
   ]
  },
  {
   "cell_type": "code",
   "execution_count": 62,
   "metadata": {},
   "outputs": [
    {
     "name": "stdout",
     "output_type": "stream",
     "text": [
      "10.56 <class 'str'> 10.56 <class 'float'>\n"
     ]
    }
   ],
   "source": [
    "# Ячейка для кода № 12\n",
    "str_val = '10.56'\n",
    "float_val = float(str_val)\n",
    "print(str_val, type(str_val), float_val, type(float_val))"
   ]
  },
  {
   "cell_type": "markdown",
   "metadata": {},
   "source": [
    "Теперь преобразуем все значения столбцов 'Ping (ms)' и 'Download (Mbit/s)' в float. Подсказка: используйте `apply` и `lambda`. За помощью обратитесь к лабораторной работе Internet_Speed_Data_Acquisition."
   ]
  },
  {
   "cell_type": "code",
   "execution_count": 63,
   "metadata": {},
   "outputs": [
    {
     "data": {
      "text/plain": [
       "Ping (ms)                   object\n",
       "Download (Mbit/s)           object\n",
       "Upload (Mbit/s)            float64\n",
       "Date                        object\n",
       "Time                        object\n",
       "Ping (ms)_float            float64\n",
       "Download (Mbit/s)_float    float64\n",
       "dtype: object"
      ]
     },
     "execution_count": 63,
     "metadata": {},
     "output_type": "execute_result"
    }
   ],
   "source": [
    "# Ячейка для кода № 14\n",
    "# это отключает предупреждение блокнота, которое не имеет отношения к нашему случаю\n",
    "pd.options.mode.chained_assignment = None\n",
    "\n",
    "# Преобразование Ping и Download в float\n",
    "df_compact_clean['Ping (ms)_float'] = df_compact_clean['Ping (ms)'].apply(lambda it: float(it))\n",
    "df_compact_clean['Download (Mbit/s)_float'] = df_compact_clean['Download (Mbit/s)'].apply(lambda it: float(it))\n",
    "\n",
    "#Убедитесь, что типы были успешно преобразованы\n",
    "df_compact_clean.dtypes"
   ]
  },
  {
   "cell_type": "markdown",
   "metadata": {},
   "source": [
    "Теперь удалите исходные столбцы `Ping (ms)` и `Download (Mbit/s)` и переименуйте новые `Ping (ms)_float` и `Download (Mbit/s)_float` в `Ping (ms)` и `Download (Mbit/s)`. Используйте `df.drop` и `df.rename`, как в лабораторной работе Internet_Speed_Data_Acquisition."
   ]
  },
  {
   "cell_type": "code",
   "execution_count": 64,
   "metadata": {},
   "outputs": [],
   "source": [
    "# Ячейка для кода № 15\n",
    "# Удалите исходные столбцы 'Ping (ms)' и 'Download (Mbit/s)'\n",
    "df_compact_clean.drop(['Ping (ms)','Download (Mbit/s)'],axis=1, inplace=True)\n",
    "# Переименуйте новый 'Ping (ms) float' и 'Download (Mbit/s) float ' в Ping (ms)' и 'Download (Mbit/s)\n",
    "df_compact_clean.rename(columns={'Download (Mbit/s)_float':'Download (Mbit/s)', \n",
    "                           'Ping (ms)_float': 'Ping (ms)'}, inplace=True)"
   ]
  },
  {
   "cell_type": "code",
   "execution_count": 65,
   "metadata": {},
   "outputs": [
    {
     "data": {
      "text/html": [
       "<div>\n",
       "<style scoped>\n",
       "    .dataframe tbody tr th:only-of-type {\n",
       "        vertical-align: middle;\n",
       "    }\n",
       "\n",
       "    .dataframe tbody tr th {\n",
       "        vertical-align: top;\n",
       "    }\n",
       "\n",
       "    .dataframe thead th {\n",
       "        text-align: right;\n",
       "    }\n",
       "</style>\n",
       "<table border=\"1\" class=\"dataframe\">\n",
       "  <thead>\n",
       "    <tr style=\"text-align: right;\">\n",
       "      <th></th>\n",
       "      <th>Upload (Mbit/s)</th>\n",
       "      <th>Date</th>\n",
       "      <th>Time</th>\n",
       "      <th>Ping (ms)</th>\n",
       "      <th>Download (Mbit/s)</th>\n",
       "    </tr>\n",
       "  </thead>\n",
       "  <tbody>\n",
       "    <tr>\n",
       "      <th>0</th>\n",
       "      <td>14.31</td>\n",
       "      <td>2016-11-24</td>\n",
       "      <td>13:36:25</td>\n",
       "      <td>26.992</td>\n",
       "      <td>91.80</td>\n",
       "    </tr>\n",
       "    <tr>\n",
       "      <th>1</th>\n",
       "      <td>14.12</td>\n",
       "      <td>2016-11-24</td>\n",
       "      <td>13:36:55</td>\n",
       "      <td>24.532</td>\n",
       "      <td>88.19</td>\n",
       "    </tr>\n",
       "    <tr>\n",
       "      <th>2</th>\n",
       "      <td>14.11</td>\n",
       "      <td>2016-11-24</td>\n",
       "      <td>13:37:25</td>\n",
       "      <td>20.225</td>\n",
       "      <td>59.86</td>\n",
       "    </tr>\n",
       "    <tr>\n",
       "      <th>3</th>\n",
       "      <td>14.22</td>\n",
       "      <td>2016-11-24</td>\n",
       "      <td>13:37:57</td>\n",
       "      <td>19.332</td>\n",
       "      <td>91.81</td>\n",
       "    </tr>\n",
       "    <tr>\n",
       "      <th>4</th>\n",
       "      <td>14.08</td>\n",
       "      <td>2016-11-24</td>\n",
       "      <td>13:38:27</td>\n",
       "      <td>22.494</td>\n",
       "      <td>92.05</td>\n",
       "    </tr>\n",
       "  </tbody>\n",
       "</table>\n",
       "</div>"
      ],
      "text/plain": [
       "   Upload (Mbit/s)        Date      Time  Ping (ms)  Download (Mbit/s)\n",
       "0            14.31  2016-11-24  13:36:25     26.992              91.80\n",
       "1            14.12  2016-11-24  13:36:55     24.532              88.19\n",
       "2            14.11  2016-11-24  13:37:25     20.225              59.86\n",
       "3            14.22  2016-11-24  13:37:57     19.332              91.81\n",
       "4            14.08  2016-11-24  13:38:27     22.494              92.05"
      ]
     },
     "execution_count": 65,
     "metadata": {},
     "output_type": "execute_result"
    }
   ],
   "source": [
    "# Ячейка для кода № 16\n",
    "df_compact_clean.head()"
   ]
  },
  {
   "cell_type": "markdown",
   "metadata": {},
   "source": [
    "Прежде чем сохранять `DataFrame`, имеет смысл переместить столбец `Upload` в конец. Это может быть достигнуто с помощью функции `reindex`."
   ]
  },
  {
   "cell_type": "code",
   "execution_count": 66,
   "metadata": {},
   "outputs": [
    {
     "data": {
      "text/html": [
       "<div>\n",
       "<style scoped>\n",
       "    .dataframe tbody tr th:only-of-type {\n",
       "        vertical-align: middle;\n",
       "    }\n",
       "\n",
       "    .dataframe tbody tr th {\n",
       "        vertical-align: top;\n",
       "    }\n",
       "\n",
       "    .dataframe thead th {\n",
       "        text-align: right;\n",
       "    }\n",
       "</style>\n",
       "<table border=\"1\" class=\"dataframe\">\n",
       "  <thead>\n",
       "    <tr style=\"text-align: right;\">\n",
       "      <th></th>\n",
       "      <th>Date</th>\n",
       "      <th>Time</th>\n",
       "      <th>Ping (ms)</th>\n",
       "      <th>Download (Mbit/s)</th>\n",
       "      <th>Upload (Mbit/s)</th>\n",
       "    </tr>\n",
       "  </thead>\n",
       "  <tbody>\n",
       "    <tr>\n",
       "      <th>0</th>\n",
       "      <td>2016-11-24</td>\n",
       "      <td>13:36:25</td>\n",
       "      <td>26.992</td>\n",
       "      <td>91.80</td>\n",
       "      <td>14.31</td>\n",
       "    </tr>\n",
       "    <tr>\n",
       "      <th>1</th>\n",
       "      <td>2016-11-24</td>\n",
       "      <td>13:36:55</td>\n",
       "      <td>24.532</td>\n",
       "      <td>88.19</td>\n",
       "      <td>14.12</td>\n",
       "    </tr>\n",
       "    <tr>\n",
       "      <th>2</th>\n",
       "      <td>2016-11-24</td>\n",
       "      <td>13:37:25</td>\n",
       "      <td>20.225</td>\n",
       "      <td>59.86</td>\n",
       "      <td>14.11</td>\n",
       "    </tr>\n",
       "    <tr>\n",
       "      <th>3</th>\n",
       "      <td>2016-11-24</td>\n",
       "      <td>13:37:57</td>\n",
       "      <td>19.332</td>\n",
       "      <td>91.81</td>\n",
       "      <td>14.22</td>\n",
       "    </tr>\n",
       "    <tr>\n",
       "      <th>4</th>\n",
       "      <td>2016-11-24</td>\n",
       "      <td>13:38:27</td>\n",
       "      <td>22.494</td>\n",
       "      <td>92.05</td>\n",
       "      <td>14.08</td>\n",
       "    </tr>\n",
       "  </tbody>\n",
       "</table>\n",
       "</div>"
      ],
      "text/plain": [
       "         Date      Time  Ping (ms)  Download (Mbit/s)  Upload (Mbit/s)\n",
       "0  2016-11-24  13:36:25     26.992              91.80            14.31\n",
       "1  2016-11-24  13:36:55     24.532              88.19            14.12\n",
       "2  2016-11-24  13:37:25     20.225              59.86            14.11\n",
       "3  2016-11-24  13:37:57     19.332              91.81            14.22\n",
       "4  2016-11-24  13:38:27     22.494              92.05            14.08"
      ]
     },
     "execution_count": 66,
     "metadata": {},
     "output_type": "execute_result"
    }
   ],
   "source": [
    "# Ячейка для кода № 17\n",
    "#df.reindex(['http_status', 'user_agent'], axis=\"columns\")\n",
    "df_compact_clean = df_compact_clean.reindex(columns = ['Date','Time','Ping (ms)','Download (Mbit/s)','Upload (Mbit/s)']);\n",
    "df_compact_clean.head()"
   ]
  },
  {
   "cell_type": "markdown",
   "metadata": {},
   "source": [
    "Теперь, когда набор данных окончательно чист, сохраните его в файле csv и переименуйте его."
   ]
  },
  {
   "cell_type": "code",
   "execution_count": 67,
   "metadata": {},
   "outputs": [],
   "source": [
    "# Ячейка для кода № 18\n",
    "# Сохраним новый очищенный кадр данных в csv\n",
    "df_compact_clean.to_csv('rpi_data_compact_clean.csv')\n",
    "df_clean = df_compact_clean"
   ]
  },
  {
   "cell_type": "markdown",
   "metadata": {},
   "source": [
    "#### Шаг 2. Базовая статистика.\n",
    "\n",
    "Новые данные требуют не только очистки, но и более тщательного исследования. Когда вы начинаете проект анализа данных, стоит инвестировать усилия в изучение и вычисление некоторых основных статистических свойств данных. Это влечет за собой расчёт среднего значения, среднеквадратических отклонений и корреляций. "
   ]
  },
  {
   "cell_type": "markdown",
   "metadata": {},
   "source": [
    "######  a) Вычислить среднее значение и среднеквадратическое отклонение с помощью Pandas.\n",
    "\n",
    "Среднее значение и среднеквадратическое отклонение всех столбцов в `DataFrame` можно вычислить с помощью `mean()` и `std()` .\n",
    "Найдите их в документации библиотеки `pandas` и примените их к `df_clean DataFrame`  \n",
    "\n",
    "Выведите результат как `количество = среднее значение ± среднеквадратическое отклонение`. Не забудьте включить единицы измерения, связанные с каждой величиной. "
   ]
  },
  {
   "cell_type": "code",
   "execution_count": 68,
   "metadata": {},
   "outputs": [
    {
     "name": "stdout",
     "output_type": "stream",
     "text": [
      "Среднее время пинга: 21.115451708766717 ± 5.161225495663228 ms\n",
      "Средняя скорость загрузки: 90.44921248142644 ± 3.465647031815227 Mbit/s\n",
      "Средняя скорость выгрузки: 13.697607726597328 ± 1.0804708853031766 Mbit/s\n"
     ]
    }
   ],
   "source": [
    "# Ячейка для кода № 19\n",
    "# Вычислить среднее значение и среднеквадратическое отклонение для всех столбцов df_compact\n",
    "# РЕШЕНИЕ:\n",
    "means = df_clean.mean()\n",
    "stands = df_clean.std()\n",
    "\n",
    "# Поместите среднее значение и среднеквадратическое отклонение для каждого столбца в кортеж\n",
    "stats_ping = (means['Ping (ms)'], stands['Ping (ms)'])\n",
    "stats_download = (means['Download (Mbit/s)'], stands['Download (Mbit/s)'])\n",
    "stats_upload = (means['Upload (Mbit/s)'], stands['Upload (Mbit/s)'])\n",
    "\n",
    "# Выведите на экран среднее значение ± среднеквадратическое отклонение, включая единицы измерения\n",
    "print('Среднее время пинга: {} ± {} ms'.format(stats_ping[0],stats_ping[1]))\n",
    "print('Средняя скорость загрузки: {} ± {} Mbit/s'.format(*stats_download))\n",
    "print('Средняя скорость выгрузки: {} ± {} Mbit/s'.format(*stats_upload))"
   ]
  },
  {
   "cell_type": "markdown",
   "metadata": {},
   "source": [
    "###### b) Рассчитайте минимальное и максимальное отклонение с помощью Pandas.\n",
    "\n",
    "Найдите в документации библиотеки `pandas` информацию о том, как вычислить минимальные и максимальные значения для всех столбцов в `DataFrame`."
   ]
  },
  {
   "cell_type": "code",
   "execution_count": 69,
   "metadata": {},
   "outputs": [
    {
     "name": "stdout",
     "output_type": "stream",
     "text": [
      "Минимальное время пинга: 16.167 ms. Максимальное время пинга: 76.528 ms\n",
      "Минимальная скорость загрузки: 58.48 Mbit/s. Максимальная скорость загрузки: 92.87 Mbit/s\n",
      "Минимальная скорость выгрузки: 6.21 Mbit/s. Максимальная скорость выгрузки: 14.55 Mbit/s\n"
     ]
    }
   ],
   "source": [
    "# Ячейка для кода № 23\n",
    "# Вычислите max и min для всех столбцов df_compact\n",
    "mins = df_clean.min()\n",
    "maxs = df_clean.max()\n",
    "\n",
    "# Укажите среднее значение и среднеквадратическое отклонение для каждого столбца в кортеже\n",
    "mima_ping = (mins['Ping (ms)'], maxs['Ping (ms)'])\n",
    "mima_download = (mins['Download (Mbit/s)'], maxs['Download (Mbit/s)'])\n",
    "mima_upload = (mins['Upload (Mbit/s)'], maxs['Upload (Mbit/s)'])\n",
    "\n",
    "# Выведите на экран средние и максимальные значения, включая единицы измерения\n",
    "print('Минимальное время пинга: {} ms. Максимальное время пинга: {} ms'.format(*mima_ping))\n",
    "print('Минимальная скорость загрузки: {} Mbit/s. Максимальная скорость загрузки: {} Mbit/s'.format(*mima_download))\n",
    "print('Минимальная скорость выгрузки: {} Mbit/s. Максимальная скорость выгрузки: {} Mbit/s'.format(*mima_upload))"
   ]
  },
  {
   "cell_type": "markdown",
   "metadata": {},
   "source": [
    "###### c) Используйте функцию  `describe`  библиотеки `pandas`.\n",
    "Выполните следующую строку кода. Обратите внимание, сколько времени библиотека `pandas` может сэкономить Вам даже с одной строкой кода!   "
   ]
  },
  {
   "cell_type": "code",
   "execution_count": 70,
   "metadata": {},
   "outputs": [
    {
     "data": {
      "text/html": [
       "<div>\n",
       "<style scoped>\n",
       "    .dataframe tbody tr th:only-of-type {\n",
       "        vertical-align: middle;\n",
       "    }\n",
       "\n",
       "    .dataframe tbody tr th {\n",
       "        vertical-align: top;\n",
       "    }\n",
       "\n",
       "    .dataframe thead th {\n",
       "        text-align: right;\n",
       "    }\n",
       "</style>\n",
       "<table border=\"1\" class=\"dataframe\">\n",
       "  <thead>\n",
       "    <tr style=\"text-align: right;\">\n",
       "      <th></th>\n",
       "      <th>Ping (ms)</th>\n",
       "      <th>Download (Mbit/s)</th>\n",
       "      <th>Upload (Mbit/s)</th>\n",
       "    </tr>\n",
       "  </thead>\n",
       "  <tbody>\n",
       "    <tr>\n",
       "      <th>count</th>\n",
       "      <td>673.000000</td>\n",
       "      <td>673.000000</td>\n",
       "      <td>673.000000</td>\n",
       "    </tr>\n",
       "    <tr>\n",
       "      <th>mean</th>\n",
       "      <td>21.115452</td>\n",
       "      <td>90.449212</td>\n",
       "      <td>13.697608</td>\n",
       "    </tr>\n",
       "    <tr>\n",
       "      <th>std</th>\n",
       "      <td>5.161225</td>\n",
       "      <td>3.465647</td>\n",
       "      <td>1.080471</td>\n",
       "    </tr>\n",
       "    <tr>\n",
       "      <th>min</th>\n",
       "      <td>16.167000</td>\n",
       "      <td>58.480000</td>\n",
       "      <td>6.210000</td>\n",
       "    </tr>\n",
       "    <tr>\n",
       "      <th>25%</th>\n",
       "      <td>19.115000</td>\n",
       "      <td>90.220000</td>\n",
       "      <td>13.640000</td>\n",
       "    </tr>\n",
       "    <tr>\n",
       "      <th>50%</th>\n",
       "      <td>20.322000</td>\n",
       "      <td>91.560000</td>\n",
       "      <td>13.980000</td>\n",
       "    </tr>\n",
       "    <tr>\n",
       "      <th>75%</th>\n",
       "      <td>21.843000</td>\n",
       "      <td>92.070000</td>\n",
       "      <td>14.180000</td>\n",
       "    </tr>\n",
       "    <tr>\n",
       "      <th>max</th>\n",
       "      <td>76.528000</td>\n",
       "      <td>92.870000</td>\n",
       "      <td>14.550000</td>\n",
       "    </tr>\n",
       "  </tbody>\n",
       "</table>\n",
       "</div>"
      ],
      "text/plain": [
       "        Ping (ms)  Download (Mbit/s)  Upload (Mbit/s)\n",
       "count  673.000000         673.000000       673.000000\n",
       "mean    21.115452          90.449212        13.697608\n",
       "std      5.161225           3.465647         1.080471\n",
       "min     16.167000          58.480000         6.210000\n",
       "25%     19.115000          90.220000        13.640000\n",
       "50%     20.322000          91.560000        13.980000\n",
       "75%     21.843000          92.070000        14.180000\n",
       "max     76.528000          92.870000        14.550000"
      ]
     },
     "execution_count": 70,
     "metadata": {},
     "output_type": "execute_result"
    }
   ],
   "source": [
    "# Ячейка для кода № 24\n",
    "df_clean.describe()"
   ]
  },
  {
   "cell_type": "markdown",
   "metadata": {},
   "source": [
    "###### d) Используйте `argmin`, `argmax` и `iloc`."
   ]
  },
  {
   "cell_type": "markdown",
   "metadata": {},
   "source": [
    "Предположим, вы хотели бы написать скрипт, который автоматически отправляет отчеты о статусе интернет-соединения вашему Интернет-провайдеру. Отчеты должны включать дату и время, соответствующие минимальной скорости интернета. Временная информация позволит Интернет-провайдеру точно идентифицировать причину медленного соединения, которое вы наблюдаете. \n",
    "\n",
    "Используя функции `argmin` и `argmax` библиотеки `pandas`, найдите значения даты и времени, соответствующие самому большому и малому времени пинга, самой низкой и самой высокой скорости загрузки, а также самой низкой и самой высокой скорости выгрузки."
   ]
  },
  {
   "cell_type": "code",
   "execution_count": 82,
   "metadata": {},
   "outputs": [
    {
     "data": {
      "text/plain": [
       "461"
      ]
     },
     "execution_count": 82,
     "metadata": {},
     "output_type": "execute_result"
    }
   ],
   "source": [
    "# Ячейка для кода № 25\n",
    "# Найдите минимальное и максимальное время пинга\n",
    "argmin_ping = df_clean['Ping (ms)'].argmin()\n",
    "argmax_ping = df_clean['Ping (ms)'].argmax()\n",
    "\n",
    "# Найдите минимальную и максимальную скорость загрузки\n",
    "argmin_download = df_clean['Download (Mbit/s)'].argmin()\n",
    "argmax_download = df_clean['Download (Mbit/s)'].argmax()\n",
    "\n",
    "# Найдите минимальную и максимальную скорость выгрузки\n",
    "argmin_upload = df_clean['Upload (Mbit/s)'].argmin()\n",
    "argmax_upload = df_clean['Upload (Mbit/s)'].argmax()"
   ]
  },
  {
   "cell_type": "markdown",
   "metadata": {},
   "source": [
    "Функции `argmin` и `argmax` возвращают индекс по отношению к строкам `Dataframe`. Чтобы получить доступ к определенной строке по её индексу, используйте `iloc`."
   ]
  },
  {
   "cell_type": "code",
   "execution_count": 72,
   "metadata": {},
   "outputs": [
    {
     "data": {
      "text/html": [
       "<div>\n",
       "<style scoped>\n",
       "    .dataframe tbody tr th:only-of-type {\n",
       "        vertical-align: middle;\n",
       "    }\n",
       "\n",
       "    .dataframe tbody tr th {\n",
       "        vertical-align: top;\n",
       "    }\n",
       "\n",
       "    .dataframe thead th {\n",
       "        text-align: right;\n",
       "    }\n",
       "</style>\n",
       "<table border=\"1\" class=\"dataframe\">\n",
       "  <thead>\n",
       "    <tr style=\"text-align: right;\">\n",
       "      <th></th>\n",
       "      <th>field_1</th>\n",
       "      <th>field_2</th>\n",
       "    </tr>\n",
       "  </thead>\n",
       "  <tbody>\n",
       "    <tr>\n",
       "      <th>0</th>\n",
       "      <td>0</td>\n",
       "      <td>0</td>\n",
       "    </tr>\n",
       "    <tr>\n",
       "      <th>1</th>\n",
       "      <td>1</td>\n",
       "      <td>2</td>\n",
       "    </tr>\n",
       "  </tbody>\n",
       "</table>\n",
       "</div>"
      ],
      "text/plain": [
       "   field_1  field_2\n",
       "0        0        0\n",
       "1        1        2"
      ]
     },
     "execution_count": 72,
     "metadata": {},
     "output_type": "execute_result"
    }
   ],
   "source": [
    "# Ячейка для кода № 26\n",
    "# Создайте небольшой кадр данных и получите доступ к его строкам с помощью iloc\n",
    "\n",
    "# Кадр дранных pandas может быть инициализирован передачей dict в качестве параметра в конструктор pd.DataFrame(). \n",
    "# Ключ будет представлять собой столбец значений строк.\n",
    "df = pd.DataFrame({'field_1': [0,1], 'field_2': [0,2]})\n",
    "df.head()"
   ]
  },
  {
   "cell_type": "code",
   "execution_count": 85,
   "metadata": {},
   "outputs": [
    {
     "data": {
      "text/plain": [
       "0"
      ]
     },
     "execution_count": 85,
     "metadata": {},
     "output_type": "execute_result"
    }
   ],
   "source": [
    "# Ячейка для кода № 27\n",
    "# Чтобы получить доступ к field_1 первой строки используйте команду iloc()\n",
    "df.iloc[0,0]"
   ]
  },
  {
   "cell_type": "markdown",
   "metadata": {},
   "source": [
    "Используйте индексы, рассчитанные с помощью  `argmax` и `argmin` в сочетании с `iloc`, чтобы визуализировать `Date` и `Time` \n",
    "максимального/минимального Ping, Download, и Upload."
   ]
  },
  {
   "cell_type": "code",
   "execution_count": 96,
   "metadata": {},
   "outputs": [
    {
     "name": "stdout",
     "output_type": "stream",
     "text": [
      "Время пинга достигло минимального значения в 15:26:20 2016-11-24\n",
      "Замер скорости загрузки достиг минимального значения в 14:57:55 2016-11-24\n",
      "Замер скорости выгрузки достиг минимального значения в 17:31:47 2016-11-24\n",
      "Время пинга достигло максимального значения в 17:30:06 2016-11-24\n",
      "Замер скорости загрузки достиг минимального значения в 14:57:55 2016-11-24\n",
      "Замер скорости выгрузки достиг минимального значения в 17:31:47 2016-11-24\n"
     ]
    }
   ],
   "source": [
    "# Ячейка для кода № 28\n",
    "#Выведите на экран соответствующие значения даты и времени\n",
    "print('Время пинга достигло минимального значения в {0} {1}'.format(df_clean.iloc[argmin_ping,1], \n",
    "                                                        df_clean.iloc[argmin_ping,0]))\n",
    "\n",
    "print('Замер скорости загрузки достиг минимального значения в {0} {1}'.format(df_clean.iloc[argmin_download,1], \n",
    "                                                        df_clean.iloc[argmin_download,0]))\n",
    "\n",
    "print('Замер скорости выгрузки достиг минимального значения в {0} {1}'.format(df_clean.iloc[argmin_upload,1], \n",
    "                                                        df_clean.iloc[argmin_upload,0]))\n",
    "\n",
    "print('Время пинга достигло максимального значения в {0} {1}'.format(df_clean.iloc[argmax_ping,1], \n",
    "                                                        df_clean.iloc[argmax_ping,0]))\n",
    "\n",
    "print('Замер скорости загрузки достиг минимального значения в {0} {1}'.format(df_clean.iloc[argmin_download,1], \n",
    "                                                        df_clean.iloc[argmax_download,0]))\n",
    "\n",
    "print('Замер скорости выгрузки достиг минимального значения в {0} {1}'.format(df_clean.iloc[argmin_upload,1], \n",
    "                                                        df_clean.iloc[argmax_upload,0]))\n"
   ]
  },
  {
   "cell_type": "markdown",
   "metadata": {},
   "source": [
    "###### e) Рассчитайте корреляцию.\n",
    "\n",
    "Полезно проанализировать, имеет ли скорость загрузки тенденцию увеличиваться и уменьшаться вместе со скоростью выгрузки. Причиной этого было бы то, что использование сети и технические проблемы должны влиять на загрузку и выгрузку одинаково. \n",
    "\n",
    "В этом случае скорость загрузки и выгрузки будет названа *положительно коррелированной*. Это означает, что более быстрая загрузка и выгрузка обычно происходят вместе. Это относится к общей тенденции, но случаи быстрой загрузки с медленной выгрузкой все равно будут возможны. \n",
    "\n",
    "С другой стороны, вы можете сделать вывод о том, что более высокая скорость загрузки подразумевает более низкую скорость выгрузки и наоборот. В этом случае аргументом будет то, что интернет-линия может поддерживать обмен только ограниченного объема информации. Загрузка и выгрузка затем будет конкурировать и держать друг друга 'под контролем'.\n",
    "\n",
    "В этом случае скорость загрузки и выгрузки будет вызвана *отрицательно коррелированной*. Это означает, что загрузка, как правило, будет быстрее, когда выгрузка будет медленнее, и наоборот. Как и прежде, это будет относиться к тенденции, так что одновременно хорошая скорость загрузки и выгрузки будет по-прежнему возможна. \n",
    "\n",
    "Чтобы завершить картину, время пинга может быть положительно или отрицательно коррелировано с загрузкой или выгрузкой. Тогда естественно думать о таблице, где каждая величина сравнивается со всеми другими. Такие таблицы являются известными математическими объектами, и дублируются *корреляционными матрицами*. \n",
    "\n",
    "Используйте функцию `corr` библиотеки `pandas` для получения корреляционной матрицы времени пинга, скорости загрузки, и выгрузки. Сохраните результат в переменной под названием `df_corr`. "
   ]
  },
  {
   "cell_type": "code",
   "execution_count": 97,
   "metadata": {},
   "outputs": [
    {
     "data": {
      "text/html": [
       "<div>\n",
       "<style scoped>\n",
       "    .dataframe tbody tr th:only-of-type {\n",
       "        vertical-align: middle;\n",
       "    }\n",
       "\n",
       "    .dataframe tbody tr th {\n",
       "        vertical-align: top;\n",
       "    }\n",
       "\n",
       "    .dataframe thead th {\n",
       "        text-align: right;\n",
       "    }\n",
       "</style>\n",
       "<table border=\"1\" class=\"dataframe\">\n",
       "  <thead>\n",
       "    <tr style=\"text-align: right;\">\n",
       "      <th></th>\n",
       "      <th>Ping (ms)</th>\n",
       "      <th>Download (Mbit/s)</th>\n",
       "      <th>Upload (Mbit/s)</th>\n",
       "    </tr>\n",
       "  </thead>\n",
       "  <tbody>\n",
       "    <tr>\n",
       "      <th>Ping (ms)</th>\n",
       "      <td>1.000000</td>\n",
       "      <td>-0.045626</td>\n",
       "      <td>-0.463099</td>\n",
       "    </tr>\n",
       "    <tr>\n",
       "      <th>Download (Mbit/s)</th>\n",
       "      <td>-0.045626</td>\n",
       "      <td>1.000000</td>\n",
       "      <td>0.083690</td>\n",
       "    </tr>\n",
       "    <tr>\n",
       "      <th>Upload (Mbit/s)</th>\n",
       "      <td>-0.463099</td>\n",
       "      <td>0.083690</td>\n",
       "      <td>1.000000</td>\n",
       "    </tr>\n",
       "  </tbody>\n",
       "</table>\n",
       "</div>"
      ],
      "text/plain": [
       "                   Ping (ms)  Download (Mbit/s)  Upload (Mbit/s)\n",
       "Ping (ms)           1.000000          -0.045626        -0.463099\n",
       "Download (Mbit/s)  -0.045626           1.000000         0.083690\n",
       "Upload (Mbit/s)    -0.463099           0.083690         1.000000"
      ]
     },
     "execution_count": 97,
     "metadata": {},
     "output_type": "execute_result"
    }
   ],
   "source": [
    "# Ячейка для кода № 29\n",
    "# Связаны ли эти переменные?\n",
    "df_corr = df_clean.corr()\n",
    "df_corr"
   ]
  },
  {
   "cell_type": "markdown",
   "metadata": {},
   "source": [
    "Ответ: связан пинг со скоростью выгрузки, но не сильно"
   ]
  },
  {
   "cell_type": "code",
   "execution_count": 98,
   "metadata": {},
   "outputs": [
    {
     "name": "stdout",
     "output_type": "stream",
     "text": [
      "Коэффициент корреляции между временем пинга и скоростью загрузки: -0.045626110258379995\n",
      "Коэффициент корреляции между временем пинга и скоростью выгрузки: -0.4630987138300184\n",
      "Коэффициент корреляции между скоростью загрузки и скоростью выгрузки: 0.08368996933725129\n"
     ]
    }
   ],
   "source": [
    "# Ячейка для кода № 30\n",
    "corr = df_corr.values\n",
    "print('Коэффициент корреляции между временем пинга и скоростью загрузки: {}'.format(corr[0, 1]))\n",
    "print('Коэффициент корреляции между временем пинга и скоростью выгрузки: {}'.format(corr[0, 2]))\n",
    "print('Коэффициент корреляции между скоростью загрузки и скоростью выгрузки: {}'.format(corr[2, 1]))"
   ]
  },
  {
   "cell_type": "markdown",
   "metadata": {},
   "source": [
    "Эти цифры отвечают на вопросы об 'отношениях' между временем пинга, скоростью загрузки, и скоростью выгрузки. Идеальная положительная корреляция дает значение +1, тогда как идеальная отрицательная корреляция дает значение -1. Тем не менее, корреляции между скоростью загрузки и временем пинга, а также между скоростью загрузки и скоростью выгрузки близки к нулю. Более того, корреляция между скоростью выгрузки и временем пинга невелика. Это приводит к выводу, что три величины фактически взаимно **некоррелированные**. \n",
    "\n"
   ]
  },
  {
   "cell_type": "markdown",
   "metadata": {},
   "source": [
    "## Часть 2. Визуализация данных"
   ]
  },
  {
   "cell_type": "markdown",
   "metadata": {},
   "source": [
    "Как говорится в пословице: 'Лучше один раз увидеть, чем сто раз услышать'. Информативные, осмысленные и интуитивные графики играют решающую роль в исследовании данных. Графики полезны на начальных этапах проекта, и далеко за его пределами. Графы - отличный способ представить результаты и выводы вашей работы перед аудиторией.\n",
    "\n",
    "Python имеет обширную библиотеку для создания графиков под названием `Matplotlib`. В качестве дополнительного учебного ресурса, безусловно, стоит взглянуть на официальную документацию [Matplotlib](http://matplotlib.org/index.html), и в частности на многочисленные [примеры](http://matplotlib.org/examples/index.html). "
   ]
  },
  {
   "cell_type": "markdown",
   "metadata": {},
   "source": [
    "#### Шаг 1. Создайте первую визуализацию данных скорости Интернета.\n",
    "\n",
    "Визуализируйте содержимое `df_clean` `DataFrame`."
   ]
  },
  {
   "cell_type": "markdown",
   "metadata": {},
   "source": [
    "###### a) Импорт Matplotlib."
   ]
  },
  {
   "cell_type": "code",
   "execution_count": 99,
   "metadata": {},
   "outputs": [],
   "source": [
    "# Ячейка для кода № 31\n",
    "import matplotlib.pyplot as plt\n",
    "# Следующий код позволяет вашему блокноту Jupyter создавать графики внутри ячейки\n",
    "%matplotlib inline "
   ]
  },
  {
   "cell_type": "markdown",
   "metadata": {},
   "source": [
    "###### b) График статистики по скорости интернета.\n",
    "\n",
    "Основываясь на том, что вы узнали в лабораторной работе SF_Crime_Data lab,  сгенерируйте график, содержащий три строки: 1. ping (ms), как функция от времени, 2. upload (Mbit/s), как функция от времени, и 3. download (Mbit/s), как функция от времени. Используйте функцию legend() , чтобы добавить легенду к вашему графику, но не беспокойтесь о маркировке осей. Мы узнаем, как это сделать чуть позже.  "
   ]
  },
  {
   "cell_type": "code",
   "execution_count": 106,
   "metadata": {},
   "outputs": [
    {
     "data": {
      "image/png": "[encoded data removed]",
      "text/plain": [
       "<Figure size 720x360 with 1 Axes>"
      ]
     },
     "metadata": {
      "needs_background": "light"
     },
     "output_type": "display_data"
    }
   ],
   "source": [
    "# Ячейка для кода № 32\n",
    "# Инициализируйте рисунок \n",
    "fig, ax = plt.subplots(figsize=(10, 5))\n",
    "\n",
    "# Создайте ось x\n",
    "t = pd.to_datetime(df_clean['Time'])\n",
    "\n",
    "\n",
    "# Выведите три кривые разных цветов\n",
    "ax.plot(t, df_clean['Ping (ms)'], label='Ping (ms)', color = 'b')\n",
    "ax.plot(t, df_clean['Download (Mbit/s)'], label='Download (Mbit/s)', color = 'c')\n",
    "ax.plot(t, df_clean['Upload (Mbit/s)'], label='Upload (Mbit/s)', color = 'r')\n",
    "\n",
    "# Добавьте легенду\n",
    "ax.legend()\n",
    "plt.show()"
   ]
  },
  {
   "cell_type": "markdown",
   "metadata": {},
   "source": [
    "###### c) Измените стиль линий.\n",
    "Поскольку измерения времени пинга включают в себя большие и резкие изменения, они, возможно, лучше визуализируются с использованием точек. Внутри команды `ax.plot(...)` для обработки данных о времени пинга, укажите, что эти измерения представлены в виде точек. (Здесь можно повторно использовать большую часть кода из предыдущей задачи.) "
   ]
  },
  {
   "cell_type": "code",
   "execution_count": 122,
   "metadata": {},
   "outputs": [
    {
     "data": {
      "image/png": "[encoded data removed]",
      "text/plain": [
       "<Figure size 1080x720 with 1 Axes>"
      ]
     },
     "metadata": {
      "needs_background": "light"
     },
     "output_type": "display_data"
    }
   ],
   "source": [
    "# Ячейка для кода № 33\n",
    "# Инициализируйте рисунок\n",
    "fig, ax = plt.subplots(figsize=(15, 10))\n",
    "\n",
    "# Нарисуйте три кривых. Данные о времени пинга \n",
    "# визуализируются с использованием точек\n",
    "t = pd.to_datetime(df_clean['Time'])\n",
    "\n",
    "ax.plot(t, df_clean['Ping (ms)'], \"ro\",  markersize=3,label='Ping (ms)', color = 'b')\n",
    "ax.plot(t, df_clean['Download (Mbit/s)'],\"ro\",  markersize=3, label='Download (Mbit/s)', color = 'c')\n",
    "ax.plot(t, df_clean['Upload (Mbit/s)'] ,\"ro\",  markersize=3, label='Upload (Mbit/s)', color = 'r')\n",
    "\n",
    "\n",
    "# Добавьте легенду\n",
    "ax.legend()\n",
    "plt.show()"
   ]
  },
  {
   "cell_type": "markdown",
   "metadata": {},
   "source": [
    "###### d) Добавьте обозначения осей."
   ]
  },
  {
   "cell_type": "markdown",
   "metadata": {},
   "source": [
    "График без названия и обозначения осей трудно понять, так как нельзя точно знать, какие значения изображаются. Сделайте приведенный выше график совместимым со стандартной научной практикой, добавив обозначения осей и название. Укажите размер шрифта около 16, чтобы название и ярлыки были напечатаны красиво и понятно. "
   ]
  },
  {
   "cell_type": "code",
   "execution_count": 132,
   "metadata": {},
   "outputs": [
    {
     "data": {
      "image/png": "[encoded data removed]",
      "text/plain": [
       "<Figure size 720x360 with 1 Axes>"
      ]
     },
     "metadata": {
      "needs_background": "light"
     },
     "output_type": "display_data"
    }
   ],
   "source": [
    "# Ячейка для кода № 35\n",
    "# Инициализируйте рисунок\n",
    "fig, ax = plt.subplots(figsize=(10, 5))\n",
    "\n",
    "# Нарисуйте три кривых\n",
    "t = pd.to_datetime(df_clean['Time'])\n",
    "ax.plot(t, df_clean['Ping (ms)'], 'o', label='Ping (ms)')\n",
    "ax.plot(t, df_clean['Upload (Mbit/s)'], label='Upload (Mbit/s)')\n",
    "ax.plot(t, df_clean['Download (Mbit/s)'], label='Download (Mbit/s)')\n",
    "\n",
    "# Добавьте легенду\n",
    "ax.legend()\n",
    "\n",
    "# Добавить обозначения осей и название\n",
    "ax.set_xlabel('Time',fontsize = 14)\n",
    "ax.set_ylabel('Speed',fontsize = 14)\n",
    "ax.set_title('Metrics of the Internet',fontsize = 16)\n",
    "\n",
    "# Измените размер отметок\n",
    "ax.tick_params(labelsize=12)"
   ]
  },
  {
   "cell_type": "markdown",
   "metadata": {
    "collapsed": true
   },
   "source": [
    "###### e)  Измените тему диаграммы.\n",
    "Используйте `'fivethirtyeight'` [style context](http://matplotlib.org/examples/style_sheets/plot_fivethirtyeight.html) , чтобы сделать предыдущий график более привлекательным. Для этого добавьте строку с `with` в ваш код, перед вызовом функций `Matplotlib`."
   ]
  },
  {
   "cell_type": "code",
   "execution_count": 137,
   "metadata": {},
   "outputs": [
    {
     "data": {
      "image/png": "[encoded data removed]",
      "text/plain": [
       "<Figure size 720x360 with 1 Axes>"
      ]
     },
     "metadata": {},
     "output_type": "display_data"
    }
   ],
   "source": [
    "# Ячейка для кода № 36\n",
    "# Используйте style context\n",
    "with plt.style.context('fivethirtyeight'):\n",
    "\n",
    "    fig, ax = plt.subplots(figsize=(10, 5))\n",
    "\n",
    "    # Нарисуйте три кривых\n",
    "    t = pd.to_datetime(df_clean['Time'])\n",
    "    ax.plot(t, df_clean['Ping (ms)'], 'o', label='Ping (ms)')\n",
    "    ax.plot(t, df_clean['Upload (Mbit/s)'], label='Upload (Mbit/s)')\n",
    "    ax.plot(t, df_clean['Download (Mbit/s)'], label='Download (Mbit/s)')\n",
    "\n",
    "    # Добавьте легенду\n",
    "    ax.legend()\n",
    "\n",
    "    # Добавить обозначения осей и название\n",
    "    ax.set_xlabel('Time',fontsize = 14)\n",
    "    ax.set_ylabel('Speed',fontsize = 14)\n",
    "    ax.set_title('Metrics of the Internet',fontsize = 16)\n",
    "\n",
    "    # Измените размер отметок\n",
    "    ax.tick_params(labelsize=12)"
   ]
  },
  {
   "cell_type": "markdown",
   "metadata": {},
   "source": [
    "###### f) Создайте гистограмму.\n",
    "\n",
    "Гистограмма представляет собой графическое представление частоты значений числовых данных. Изучите приведенный ниже код. Дополнительным уровнем сложности является использование функции 'subplot()' для отображения гистограмм бок о бок. "
   ]
  },
  {
   "cell_type": "code",
   "execution_count": 140,
   "metadata": {},
   "outputs": [
    {
     "data": {
      "image/png": "[encoded data removed]",
      "text/plain": [
       "<Figure size 720x720 with 4 Axes>"
      ]
     },
     "metadata": {},
     "output_type": "display_data"
    }
   ],
   "source": [
    "# Ячейка для кода № 37\n",
    "with plt.style.context('fivethirtyeight'):\n",
    "    \n",
    "    nbins = 100\n",
    "    # Инициализируйте рисунок\n",
    "    fig, ax = plt.subplots(2, 2, figsize=(10, 10))\n",
    "    ax[0][0].hist(df_clean['Ping (ms)'], nbins)\n",
    "    ax[0][0].set_xlabel('Ping (ms)', fontsize=16)\n",
    "    ax[0][0].tick_params(labelsize=14)\n",
    "    ax[0][1].hist(df_clean['Upload (Mbit/s)'], nbins)\n",
    "    ax[0][1].set_xlabel('Upload (Mbit/s)', fontsize=16)\n",
    "    ax[0][1].tick_params(labelsize=14)\n",
    "    ax[1][0].hist(df_clean['Download (Mbit/s)'], nbins)\n",
    "    ax[1][0].set_xlabel('Download (Mbit/s)', fontsize=16)\n",
    "    ax[1][0].tick_params(labelsize=14)\n",
    "    ax[1][1].set_visible(False)"
   ]
  },
  {
   "cell_type": "markdown",
   "metadata": {
    "collapsed": true
   },
   "source": [
    "<font size='0.5'>&copy; 2017 Cisco and/or its affiliates. All rights reserved. This document is Cisco Public.<font>"
   ]
  }
 ],
 "metadata": {
  "kernelspec": {
   "display_name": "Python 3",
   "language": "python",
   "name": "python3"
  },
  "language_info": {
   "codemirror_mode": {
    "name": "ipython",
    "version": 3
   },
   "file_extension": ".py",
   "mimetype": "text/x-python",
   "name": "python",
   "nbconvert_exporter": "python",
   "pygments_lexer": "ipython3",
   "version": "3.7.6"
  }
 },
 "nbformat": 4,
 "nbformat_minor": 1
}
